{
 "cells": [
  {
   "cell_type": "markdown",
   "metadata": {
    "id": "vStNEl6RgF8C"
   },
   "source": [
    "## Question 1:"
   ]
  },
  {
   "cell_type": "markdown",
   "metadata": {
    "id": "iFPFMwjJgF3c"
   },
   "source": [
    "On fixe un $\\theta$ dans $]0,\\infty[$, l'information de Fisher s'écrit: \n",
    "\\begin{align}\n",
    "\\mathbb{I}(\\theta) = \\mathbb{E}_{\\theta} (\\nabla_{\\theta}l(\\theta, X) {\\nabla_{\\theta}l(\\theta, X)}^{T})  \n",
    "\\end{align}\n",
    "On sait que la densité de cette loi s'écrit: \n",
    "\\begin{align}\n",
    "f(x,\\theta) = \\theta x^{\\theta-1} \\mathbf{1}_{0<x<1}  \n",
    "\\end{align}\n",
    "\n",
    "alors \n",
    "\\begin{align}\n",
    "l(x,\\theta) = log(\\theta) +(\\theta-1)log(x)\n",
    "\\end{align}\n",
    "\n",
    "On passe par les dérivées secondes et puis la matrice Hessienne qui est dans ce cas unidimensionnelle.\n",
    "On a\n",
    "\\begin{align}\n",
    "{\\partial_{\\theta}}^{2}l(x,\\theta) = -\\dfrac{1}{\\theta²}\n",
    "\\end{align}\n",
    "\n",
    "On conclut alors que : \n",
    "\\begin{align}\n",
    "\\mathbb{I}(\\theta) =  \\dfrac{1}{\\theta²}\n",
    "\\end{align}\n"
   ]
  },
  {
   "cell_type": "markdown",
   "metadata": {
    "id": "4SB_Bpg9gF00"
   },
   "source": [
    "## Question 2:"
   ]
  },
  {
   "cell_type": "markdown",
   "metadata": {
    "id": "V_I2rFI6gFx5"
   },
   "source": [
    "La fonction de vraisemblance d'un n-échantillon est : \n",
    "\\begin{align}\n",
    "L_{n,\\theta}(X_1,...,X_n) = \\prod_{i=0}^n{\\theta X_i^{\\theta-1}}\n",
    "\\end{align}\n",
    "Ainsi, la log-vraisemblance s'écrit:\n",
    "\\begin{align}\n",
    "l_{n,\\theta}(X_1,...,X_n) =    nlog(\\theta) + (\\theta-1)\\sum_{i=0}^n{X_i}\n",
    "\\end{align}\n",
    "La résolution de l'équation  $\\ \\partial_{\\theta}l=0 \\ $ entraine:\n",
    "\\begin{align}\n",
    "\\hat{\\theta}^{MV}_n = -\\dfrac{n}{\\sum_{i=0}^n{X_i}}\n",
    "\\end{align}\n",
    "\n",
    "Il s'agit bien d'un maximum de vraisemblance, comme:\n",
    "\\begin{align}\n",
    "\\partial_{\\theta}^{2}l(X_1,...,X_n) = -\\dfrac{n}{\\theta²} \\leq 0\n",
    "\\end{align}"
   ]
  },
  {
   "cell_type": "markdown",
   "metadata": {
    "id": "pp9Y8chngFu0"
   },
   "source": [
    "## Question 3:"
   ]
  },
  {
   "cell_type": "markdown",
   "metadata": {
    "id": "iILOv2JlgFq6"
   },
   "source": [
    "On fixe $\\theta$ dans $\\Theta$:  \n",
    "On cherche d'abord la loi de $Y_i=log(X_i)$:\n",
    "\\begin{align}\n",
    "\\mathbb{P}_{\\theta}(-log(X_i) \\leq t) &= \\mathbb{P}_{\\theta}(X_i \\geq e^{-t}) \\\\\n",
    "&= \\int_{e^{-t}}^1 {\\theta e^{\\theta-1}}\n",
    "\\end{align}\n",
    "La densité de la variable $ \\ Y_i \\ $ est obtenue alors en dérivant l'expression de l'intégrale précédante:\n",
    "\\begin{align}\n",
    "f_{Y_i}(t) = \\theta e^{-t\\theta}\n",
    "\\end{align}\n",
    "Ainsi: $  Y_i \\sim_{\\theta} \\mathcal{E}(\\theta) = \\Gamma(1,\\theta)$  \n",
    "Comme les variables $(X_i)_i $ sont indépendantes, il en est de même pour les variables aléatoires $(Y_i)_i $ par continuité du $log$  \n",
    "Selon les régles de sommation des lois Gamma qui ont le même paramètre $\\beta$, la variable aléatoire $W=-\\sum_{i=1}^n { log(X_i)}$ suit une loi $\\Gamma(n,\\theta)$ sous la probabilité $\\mathbb{P}_\\theta$"
   ]
  },
  {
   "cell_type": "markdown",
   "metadata": {
    "id": "9KqgOgNLgFnC"
   },
   "source": [
    "## Question 4:"
   ]
  },
  {
   "cell_type": "markdown",
   "metadata": {
    "id": "mAavqeeDgFjA"
   },
   "source": [
    "$\\theta$ étant toujours fixé dans $\\Theta$:\n",
    "\\begin{align}\n",
    "\\mathbb{E}_\\theta\\big(\\hat{\\theta}^{MV}_n \\big) &= \\mathbb{E}_\\theta\\bigg(-\\dfrac{n}{\\sum{log(X_i)}}\\bigg) \\\\\n",
    "&=n \\mathbb{E}_\\theta\\bigg(-\\dfrac{1}{\\sum{log(X_i)}} \\bigg) \\\\\n",
    "&=n\\mathbb{E}\\bigg(\\dfrac{1}{W}\\bigg)\n",
    "\\end{align}\n",
    "\n",
    "En calculant l'espérance de $\\dfrac{1}{W}$ à l'aide du théorème du transfert avec la densité d'une loi Gamma$(1,n)$ on trouve que:\n",
    "\n",
    "\\begin{align}\n",
    "\\mathbb{E} \\bigg(\\dfrac{1}{W}\\bigg) &= \\int_0^{\\infty} {\\dfrac{1}{y} \\dfrac{y^{n-1} \\theta^n e^{-\\theta y}}{(n-1)!} dy} \\\\\n",
    "&=\\dfrac{\\theta}{(n-1)!} \\int_0^{\\infty} {u^{n-2} e^{-u} du} \\\\\n",
    "&= \\dfrac{\\theta (n-2)!}{(n-1)!}\\\\\n",
    "&=\\dfrac{\\theta }{n-1}\n",
    "\\end{align}\n",
    "\n",
    "Par la suite, \n",
    "\\begin{align}\n",
    "\\mathbb{E}_\\theta\\big(\\hat{\\theta}^{MV}_n \\big) =  \\dfrac{n}{n-1}\\theta\n",
    "\\end{align}\n"
   ]
  },
  {
   "cell_type": "markdown",
   "metadata": {
    "id": "lXyoLtS4gFWd"
   },
   "source": [
    "## Question 5:"
   ]
  },
  {
   "cell_type": "markdown",
   "metadata": {
    "id": "uPMA8jCbgR8T"
   },
   "source": [
    "On fixe encore $\\theta$ dans $\\Theta$, on a alors:\n",
    "\\begin{align}\n",
    "\\mathbb{Var}_\\theta (\\tilde{\\theta}_n) &= \\mathbb{Var}_\\theta (\\dfrac{n}{n-1} \\hat{\\theta}^{MV}_n) \\\\\n",
    "&= \\bigg(\\dfrac{n}{n-1}\\bigg)^{2} \\mathbb{Var}_\\theta (\\hat{\\theta}^{MV}_n)\n",
    "\\end{align}\n",
    "Or,\n",
    "\\begin{align}\n",
    "\\mathbb{Var}_\\theta (\\hat{\\theta}^{MV}_n) &= \\mathbb{E}_\\theta(\\big(\\hat{\\theta}^{MV}_n\\big)^{2}) - \\big(\\mathbb{E}_\\theta(\\hat{\\theta}^{MV}_n) \\big)^{2} \\\\\n",
    "&= \\dfrac{\\theta^{2}}{(n-1)(n-2)} - \\bigg(\\dfrac{\\theta}{n-1}\\bigg)^{2} \\\\\n",
    "&= \\dfrac{\\theta^{2}}{n-1}\\bigg(\\dfrac{1}{n-2}-\\dfrac{1}{n-1}\\bigg) \\\\\n",
    "&= \\dfrac{\\theta^{2}}{(n-1)^{2}(n-2)}\n",
    "\\end{align}\n",
    "\n",
    "Conclusion : \n",
    "\\begin{align}\n",
    "\\mathbb{Var}_\\theta (\\tilde{\\theta}_n) = \\dfrac{\\theta^{2}}{n-2}\n",
    "\\end{align}"
   ]
  },
  {
   "cell_type": "markdown",
   "metadata": {
    "id": "9mRM6aY6PaIa"
   },
   "source": [
    "## Question 6:"
   ]
  },
  {
   "cell_type": "markdown",
   "metadata": {
    "id": "6B2PM_hePcde"
   },
   "source": [
    "D'abord pour un n-échantillon de variables aléatoires indépendantes tiré d'un même modèle statistique, l'information de Fisher est donnée par:\n",
    "\\begin{align}\n",
    "\\mathbb{I}_n(\\theta) = n\\mathbb{I}(\\theta) = \\dfrac{n}{\\theta^{2}}\n",
    "\\end{align}\n",
    " On remarque alors que:\n",
    "\\begin{align}\n",
    "\\mathbb{Var}_{\\theta}(\\tilde\\theta_n) = \\frac{\\theta^2}{n-2} > \\nabla g(\\theta)^T \\mathbb{I}_n(\\theta)^{-1} \\nabla g(\\theta) = \\frac{\\theta^2}{n}  \\\\\n",
    "Où \\ g(\\theta)=\\theta \\  est\\ donc\\ \\nabla g(\\theta)=1 \\\\\n",
    "\\end{align}\n",
    "Ce qui est équivalent au fait que $\\ \\tilde\\theta_n$ n'est pas un estimateur sans biais efficace\n"
   ]
  },
  {
   "cell_type": "markdown",
   "metadata": {
    "id": "u_09RgrXb3FC"
   },
   "source": [
    "## Question7 :"
   ]
  },
  {
   "cell_type": "code",
   "execution_count": null,
   "metadata": {
    "id": "nBBJB5BnSCL1"
   },
   "outputs": [],
   "source": [
    "import numpy as np\n",
    "import matplotlib.pyplot as plt\n",
    "import pandas as pd\n",
    "from scipy import stats"
   ]
  },
  {
   "cell_type": "code",
   "execution_count": null,
   "metadata": {
    "colab": {
     "base_uri": "https://localhost:8080/",
     "height": 390
    },
    "id": "pRDDpXvub2ln",
    "outputId": "2af89ad2-cace-458e-fbe5-5e6059c7033c"
   },
   "outputs": [
    {
     "data": {
      "image/png": "[encoded data removed]",
      "text/plain": [
       "<Figure size 1296x432 with 2 Axes>"
      ]
     },
     "metadata": {
      "needs_background": "light"
     },
     "output_type": "display_data"
    }
   ],
   "source": [
    "def R_teta_tild(n, teta):\n",
    "    return teta**2 / (n-2)\n",
    "def R_teta_MV(n, teta):\n",
    "    return (1 + n**2 / (n-2)) * teta**2 / (n-1)**2\n",
    "def borne_Cramer_Rao(n, teta):\n",
    "    return teta**2 / n\n",
    "\n",
    "fig, (ax1, ax2) = plt.subplots(1,2, figsize= (18,6))\n",
    "\n",
    "\n",
    "\n",
    "teta = np.linspace(0, 100, 500)\n",
    "n = 20\n",
    "ax1.plot(teta, R_teta_MV(n, teta), color= 'r', label= r\"$\\hat\\theta_{20}^{MV}$\")\n",
    "ax1.plot(teta, R_teta_tild(n, teta), color= 'g', label= r\"$\\tilde\\theta_{20}$\")\n",
    "ax1.plot(teta, borne_Cramer_Rao(n, teta), color= 'b', label= r\"borne de Cramer Rao\")\n",
    "ax1.legend(loc='best')\n",
    "ax1.set_title(f\"n= {n}\")\n",
    "\n",
    "n = 200\n",
    "ax2.plot(teta, R_teta_MV(n, teta), color= 'r', label= r\"$\\hat\\theta_{200}^{MV}$\")\n",
    "ax2.plot(teta, R_teta_tild(n, teta), color= 'g', label= r\"$\\tilde\\theta_{200}$\")\n",
    "ax2.plot(teta, borne_Cramer_Rao(n, teta), color= 'b', label= r\"borne de Cramer Rao\")\n",
    "ax2.legend(loc='best')\n",
    "ax2.set_title(f\"n= {n}\")\n",
    "plt.show()"
   ]
  },
  {
   "cell_type": "markdown",
   "metadata": {
    "id": "qC4qw39IXCWc"
   },
   "source": [
    "## Question 8: "
   ]
  },
  {
   "cell_type": "markdown",
   "metadata": {
    "id": "lN5crS0SXGun"
   },
   "source": [
    "On sait d'après la question 3 que $W$ suit une loi $\\Gamma(n,\\theta)$ \\\\\n",
    "Alors $2\\theta W$ suit une loi $\\Gamma(2n/2,1/2)$ qui est la loi de $\\chi^2$ à 2n degrés de liberté\n"
   ]
  },
  {
   "cell_type": "markdown",
   "metadata": {
    "id": "kKbxNzWjckMQ"
   },
   "source": [
    "## Question 9:"
   ]
  },
  {
   "cell_type": "markdown",
   "metadata": {
    "id": "hLEvajuscmp3"
   },
   "source": [
    "Soit $q_{1-\\alpha}$ le quantile de niveau $1-\\alpha$ de la loi de $\\chi^2$ à 2n degrés de liberté, donc: \\\\\n",
    "\n",
    "\\begin{align}\n",
    "P_\\theta(2\\theta W \\leq q_{1-\\alpha}) = 1-\\alpha \\  \\\\\n",
    "\\end{align}\n",
    "et puisque $\\theta$ et $W$ sont positives alors: \\\\\n",
    "\n",
    "\\begin{align}\n",
    "P_\\theta(0 \\leq 2\\theta W \\leq q_{1-\\alpha}) = 1-\\alpha \\ \\Rightarrow P_\\theta(\\theta \\in [0, \\frac{q_{1-\\alpha}}{2W}])=1-\\alpha \\\\\n",
    "\\end{align}"
   ]
  },
  {
   "cell_type": "markdown",
   "metadata": {
    "id": "l4m9Shi5Skgk"
   },
   "source": [
    "## Question 10:"
   ]
  },
  {
   "cell_type": "code",
   "execution_count": null,
   "metadata": {
    "id": "5lRXfXVXR_P4"
   },
   "outputs": [],
   "source": [
    "data_20 = pd.read_csv('data20.csv')\n",
    "data_200 = pd.read_csv('data200.csv')"
   ]
  },
  {
   "cell_type": "code",
   "execution_count": null,
   "metadata": {
    "colab": {
     "base_uri": "https://localhost:8080/",
     "height": 206
    },
    "id": "KXCSIKSwSrtP",
    "outputId": "89a6e124-8504-4ea0-db1b-cfff402d2b9e"
   },
   "outputs": [
    {
     "data": {
      "text/html": [
       "<div>\n",
       "<style scoped>\n",
       "    .dataframe tbody tr th:only-of-type {\n",
       "        vertical-align: middle;\n",
       "    }\n",
       "\n",
       "    .dataframe tbody tr th {\n",
       "        vertical-align: top;\n",
       "    }\n",
       "\n",
       "    .dataframe thead th {\n",
       "        text-align: right;\n",
       "    }\n",
       "</style>\n",
       "<table border=\"1\" class=\"dataframe\">\n",
       "  <thead>\n",
       "    <tr style=\"text-align: right;\">\n",
       "      <th></th>\n",
       "      <th>x</th>\n",
       "    </tr>\n",
       "  </thead>\n",
       "  <tbody>\n",
       "    <tr>\n",
       "      <th>0</th>\n",
       "      <td>0.988442</td>\n",
       "    </tr>\n",
       "    <tr>\n",
       "      <th>1</th>\n",
       "      <td>0.984477</td>\n",
       "    </tr>\n",
       "    <tr>\n",
       "      <th>2</th>\n",
       "      <td>0.941857</td>\n",
       "    </tr>\n",
       "    <tr>\n",
       "      <th>3</th>\n",
       "      <td>0.620518</td>\n",
       "    </tr>\n",
       "    <tr>\n",
       "      <th>4</th>\n",
       "      <td>0.642498</td>\n",
       "    </tr>\n",
       "  </tbody>\n",
       "</table>\n",
       "</div>"
      ],
      "text/plain": [
       "          x\n",
       "0  0.988442\n",
       "1  0.984477\n",
       "2  0.941857\n",
       "3  0.620518\n",
       "4  0.642498"
      ]
     },
     "execution_count": 6,
     "metadata": {},
     "output_type": "execute_result"
    }
   ],
   "source": [
    "data_20.head()"
   ]
  },
  {
   "cell_type": "code",
   "execution_count": null,
   "metadata": {
    "colab": {
     "base_uri": "https://localhost:8080/",
     "height": 206
    },
    "id": "uY7e3WrzSt74",
    "outputId": "f6f966d4-5169-457f-88a0-78bef6253663"
   },
   "outputs": [
    {
     "data": {
      "text/html": [
       "<div>\n",
       "<style scoped>\n",
       "    .dataframe tbody tr th:only-of-type {\n",
       "        vertical-align: middle;\n",
       "    }\n",
       "\n",
       "    .dataframe tbody tr th {\n",
       "        vertical-align: top;\n",
       "    }\n",
       "\n",
       "    .dataframe thead th {\n",
       "        text-align: right;\n",
       "    }\n",
       "</style>\n",
       "<table border=\"1\" class=\"dataframe\">\n",
       "  <thead>\n",
       "    <tr style=\"text-align: right;\">\n",
       "      <th></th>\n",
       "      <th>x</th>\n",
       "    </tr>\n",
       "  </thead>\n",
       "  <tbody>\n",
       "    <tr>\n",
       "      <th>0</th>\n",
       "      <td>0.724968</td>\n",
       "    </tr>\n",
       "    <tr>\n",
       "      <th>1</th>\n",
       "      <td>0.955813</td>\n",
       "    </tr>\n",
       "    <tr>\n",
       "      <th>2</th>\n",
       "      <td>0.927062</td>\n",
       "    </tr>\n",
       "    <tr>\n",
       "      <th>3</th>\n",
       "      <td>0.719394</td>\n",
       "    </tr>\n",
       "    <tr>\n",
       "      <th>4</th>\n",
       "      <td>0.512164</td>\n",
       "    </tr>\n",
       "  </tbody>\n",
       "</table>\n",
       "</div>"
      ],
      "text/plain": [
       "          x\n",
       "0  0.724968\n",
       "1  0.955813\n",
       "2  0.927062\n",
       "3  0.719394\n",
       "4  0.512164"
      ]
     },
     "execution_count": 7,
     "metadata": {},
     "output_type": "execute_result"
    }
   ],
   "source": [
    "data_200.head()"
   ]
  },
  {
   "cell_type": "code",
   "execution_count": null,
   "metadata": {
    "colab": {
     "base_uri": "https://localhost:8080/"
    },
    "id": "vW2tG0VwSe1d",
    "outputId": "9434f51d-c287-4c31-f82a-a3ca66b2d9a0"
   },
   "outputs": [
    {
     "name": "stdout",
     "output_type": "stream",
     "text": [
      "for n= 20: teta_MV= 5.084641001829599  and teta_tild= 4.830408951738119\n",
      "for n= 200: teta_MV= 3.7583554144789644  and teta_tild= 3.7395636374065697\n"
     ]
    }
   ],
   "source": [
    "X_20 = np.array(data_20, dtype= np.float64)\n",
    "X_200 = np.array(data_200, dtype= np.float64)\n",
    "teta_20_MV = -len(data_20) / np.sum(np.log(X_20))\n",
    "teta_20_tild = teta_20_MV * (1 - 1.0/len(data_20))\n",
    "teta_200_MV = -len(data_200) / np.sum(np.log(X_200))\n",
    "teta_200_tild = teta_200_MV * (1 - 1.0/len(data_200))\n",
    "print(f\"for n= {len(data_20)}: teta_MV= {teta_20_MV}  and teta_tild= {teta_20_tild}\")\n",
    "print(f\"for n= {len(data_200)}: teta_MV= {teta_200_MV}  and teta_tild= {teta_200_tild}\")"
   ]
  },
  {
   "cell_type": "markdown",
   "metadata": {
    "id": "44lPgdWaWJzB"
   },
   "source": [
    "## Question 11:"
   ]
  },
  {
   "cell_type": "code",
   "execution_count": null,
   "metadata": {
    "colab": {
     "base_uri": "https://localhost:8080/",
     "height": 406
    },
    "id": "wKmgdCV-WHfE",
    "outputId": "447d50ac-6179-47d6-f9bf-6d7584a8fd0f"
   },
   "outputs": [
    {
     "data": {
      "image/png": "[encoded data removed]",
      "text/plain": [
       "<Figure size 720x432 with 1 Axes>"
      ]
     },
     "metadata": {
      "needs_background": "light"
     },
     "output_type": "display_data"
    }
   ],
   "source": [
    "plt.figure(figsize= (10,6))\n",
    "alpha= 0.05\n",
    "quantile_20 = stats.chi2.ppf(1-alpha, df= 2*len(data_20))\n",
    "W_20 = - np.sum(np.log(X_20))\n",
    "quantile_200 = stats.chi2.ppf(1-alpha, df= 2*len(data_200))\n",
    "quantile_20 = stats.chi2.ppf(1-alpha, df= 2*len(data_20))\n",
    "W_200 = - np.sum(np.log(X_200))\n",
    "plt.hlines(1, 0, quantile_20 / (2*W_20), color= \"blue\", label=\"n= 20\")\n",
    "plt.hlines(2, 0, quantile_200 / (2*W_200), color= \"r\", label=\"n= 200\")\n",
    "plt.scatter([teta_20_tild, teta_200_tild], [1, 2], color= 'black', label=r\"$\\tilde\\theta$\")\n",
    "plt.ylim([0.5,2.5])\n",
    "plt.legend(loc= 'best')\n",
    "plt.xlabel(r\"$\\theta$\")\n",
    "plt.title(f\"intervalles de confiance de taux de couverture {1-alpha}\")\n",
    "plt.show()"
   ]
  }
 ],
 "metadata": {
  "colab": {
   "collapsed_sections": [],
   "name": "EN2.ipynb",
   "provenance": []
  },
  "kernelspec": {
   "display_name": "Python 3",
   "language": "python",
   "name": "python3"
  },
  "language_info": {
   "codemirror_mode": {
    "name": "ipython",
    "version": 3
   },
   "file_extension": ".py",
   "mimetype": "text/x-python",
   "name": "python",
   "nbconvert_exporter": "python",
   "pygments_lexer": "ipython3",
   "version": "3.8.5"
  }
 },
 "nbformat": 4,
 "nbformat_minor": 1
}
