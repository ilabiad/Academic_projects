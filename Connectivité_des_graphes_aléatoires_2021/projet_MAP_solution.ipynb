{
 "cells": [
  {
   "cell_type": "markdown",
   "id": "772db2fc",
   "metadata": {},
   "source": [
    "\n",
    "\n",
    "\n",
    "\n",
    "<h1 style = \"margin-top : 70px\"><center> Connectivité des graphes aléatoires </center></h1>"
   ]
  },
  {
   "cell_type": "markdown",
   "id": "fa0d4387",
   "metadata": {},
   "source": [
    "## Graphe non orienté : Théorie"
   ]
  },
  {
   "cell_type": "markdown",
   "id": "fe628d4e",
   "metadata": {},
   "source": [
    "### T1\n"
   ]
  },
  {
   "cell_type": "markdown",
   "id": "1882525e",
   "metadata": {},
   "source": [
    " #### Montrons que $ \\forall k \\in \\mathbb{N} $, on a $ \\mathbb{E}(X^{\\underline k}) = n^{\\underline k}(1-p)^{k(n-k) + \\binom{k}{2}} $\n",
    " "
   ]
  },
  {
   "cell_type": "markdown",
   "id": "3e95909c",
   "metadata": {},
   "source": [
    "<blockquote>\n",
    "On montre tout d'abord que $$X^{\\underline k} = \\sum_{u_{1},u_{2},...,u_{k}}Z_{u_{1}}...Z_{u_{k}} , \\forall k \\in [n] $$<br>  Pour $ k = 1 $, <br>\n",
    "On a $ X^{\\underline 1} = X = \\sum_{ u \\in [n] } Z $  <br>\n",
    "Supposons que le résultat est vrai pour un certain $ k \\in [n-1] $, et montrons qu'il reste encore vrai au rang  $k+1$ : <br> \n",
    "On a $ X^{\\underline{ k+1}} = X(X-1)...(X-k) = X^{\\underline k}(X-k)$  <br>\n",
    "Or, d'après l'hypothèse de récurrence on a $ X^{\\underline k} =  \\sum_{u_{1},u_{2},...,u_{k}}Z_{u_{1}}...Z_{u_{k}}$  <br>\n",
    "Donc $$\\begin{equation} \\begin{aligned} X^{\\underline k}(X-k) & = \\sum_{u_{1},u_{2},...,u_{k}}Z_{u_{1}}...Z_{u_{k}} \\times (X-k) \\\\ & = \\sum_{u_{1},u_{2},...,u_{k}}Z_{u_{1}}...Z_{u_{k}} \\times (\\sum_{ u \\in [n] } Z -k)  \\\\ & = \\sum_{u_{1},u_{2},...,u_{k},j}Z_{u_{1}}...Z_{u_{k}}Z_{j} - k \\times \\sum_{u_{1},u_{2},...,u_{k}}Z_{u_{1}}...Z_{u_{k}}\n",
    "\\end{aligned}\\end{equation}$$ <br>\n",
    "Sachant que l'indice $j$ peut être égal à l'un des autres indices.<br>\n",
    "D'autre part, $$ Z_{u} \\times Z_{u} = Z_{u} $$ <br>\n",
    "Donc pour $ j = u_{i} $ pour un certain $ i <= k $, on a $$ \\sum_{u_{1},u_{2},...,u_{k},j}Z_{u_{1}}...Z_{u_{k}}Z_{j} = \\sum_{u_{1},u_{2},...,u_{k}}Z_{u_{1}}...Z_{u_{k}}$$  <br>\n",
    "Cela dit, ayant cette égalité exactement $k$ fois, on a : $$ \\sum_{u_{1},u_{2},...,u_{k},j}Z_{u_{1}}...Z_{u_{k}}Z_{j} - k \\times \\sum_{u_{1},u_{2},...,u_{k}}Z_{u_{1}}...Z_{u_{k}} = \\sum_{u_{1},u_{2},...,u_{k},u_{k+1}}Z_{u_{1}}...Z_{u_{k}}Z_{u_{k+1}} $$  <br>\n",
    "Avec les suites d'entiers $u_{1},u_{2},...,u_{k+1}$ sont distincts de $[n]$. <br>\n",
    "Ainsi d'après le principe de récurrence, on a $$X^{\\underline k} = \\sum_{u_{1},u_{2},...,u_{k}}Z_{u_{1}}...Z_{u_{k}} , \\forall k \\in \\mathbb{N} $$  <br>\n",
    "Par linéarité de l'espérance on déduit que $$ \\mathbb{E}(X^{\\underline k}) = \\sum_{u_{1},u_{2},...,u_{k}} \\mathbb{E}(Z_{u_{1}}...Z_{u_{k}}) $$ <br>\n",
    "Comme les suites d'entiers $u_{1},u_{2},...,u_{k}$ sont distincts de $[n]$ et les $Z_{u}$ sont de même loi, on a, alors, $Z_{1}...Z_{k}$ est de même loi que $Z_{u_{1}}...Z_{u_{k}}$  <br>\n",
    "Donc $$ \\begin{equation} \\begin{aligned} \\mathbb{E}(X^{\\underline k}) & = \\sum_{u_{1},u_{2},...,u_{k}} \\mathbb{E}(Z_{u_{1}}...Z_{u_{k}}) \\\\ &=\\sum_{u_{1},u_{2},...,u_{k}} \\mathbb{E}(Z_{1}...Z_{k}) \\\\ & = \\mathbb{E}(Z_{1}...Z_{k}) \\sum_{u_{1},u_{2},...,u_{k}} 1 \\end{aligned} \\end{equation}  $$  <br>\n",
    "Comme les suites d'entiers $u_{1},u_{2},...,u_{k}$ sont distincts de $[n]$, alors $ \\sum_{u_{1},u_{2},...,u_{k}} 1$ correspond au nombre de $k$ arrangements de $[n]$, soit $$ n^{\\underline k} = n(n-1)...(n-k+1)$$  <br>\n",
    "Montrons maintenant que $E(Z_1...Z_k) = (1-p)^{k(n-k)+ \\binom{k}{2}}$  <br>\n",
    "On a $Z_1...Z_k  = 1_{1,2,...,k\\textrm{ sont tous des sommets isolés de G}}$, alors $ E(Z_1...Z_k) = P(1,2,...,k\\textrm{ sont tous des sommets isolés de G})$  <br>\n",
    "D'après la formule des probabilités composées,\n",
    "$$ \\begin{equation} \\begin{aligned} E(Z_1...Z_k) &= P(1,2,...,k\\textrm{ sont tous des sommets isolés de G}) \\\\ &= P(Z_1 = 1)P(Z_2 = 1)_{Z_1=1}...P(Z_k = 1)_{Z_1 = 1, Z_2 = 1,...,Z_{k-1} = 1} \\\\ & = (1-p)^{n-1} \\times (1-p)^{n-2} \\times ... \\times (1-p)^{n-k} \\\\ & = (1-p)^{n \\times k - \\frac{k(k+1)}{2}} \\\\  & = (1-p)^{n \\times k - k^2 + \\frac{k(k-1)}{2}} \\\\ &= (1-p)^{k(n-k) + \\binom{k}{2}} \\end{aligned} \\end{equation} $$  <br>\n",
    "D'où $$ \\mathbb{E}(X^{\\underline k}) = n^{\\underline k}(1-p)^{k(n-k) + \\binom{k}{2}} $$ <br>\n",
    "</blockquote>\n",
    "\n",
    "\n"
   ]
  },
  {
   "cell_type": "markdown",
   "id": "12ee9a4f",
   "metadata": {},
   "source": [
    "#### Montrons que  $\\lim\\limits_{n \\rightarrow +\\infty} \\mathbb{E}(X^{\\underline k}) = e^{-kc}$"
   ]
  },
  {
   "cell_type": "markdown",
   "id": "56ac6262",
   "metadata": {},
   "source": [
    "<blockquote>\n",
    "On a $$ \\mathbb{E}(X^{\\underline k}) = n^{\\underline k}(1-p)^{k(n-k) + \\binom{k}{2}} $$  <br>\n",
    "Or $$\\begin{equation}\\begin{aligned}n^{\\underline k}(1-p)^{k(n-k) + \\binom{k}{2}} & \\sim n^k(1-\\frac{\\ln(n)+c}{n})^{nk} \\\\ & \\sim n^k\\times e^{nk\\ln(1-\\frac{\\ln(n)+c}{n})}\\end{aligned}\\end{equation}$$  <br>\n",
    "Comme $ n\\ln(1-\\frac{\\ln(n)+c}{n}) \\sim -\\ln(n)-c $ et $\\lim\\limits_{n \\rightarrow +\\infty} n\\ln(1-\\frac{\\ln(n)+c}{n}) + \\ln(n) + c = 0$, alors on a $ e^{nk\\ln(1-\\frac{\\ln(n)+c}{n})} \\sim e^{-k(\\ln(n)+c)} $  <br>\n",
    "D'où $$\\begin{equation}\\begin{aligned} n^k\\times e^{nk\\ln(1-\\frac{\\ln(n)+c}{n})} & \\sim n^k \\times e^{\\ln(\\frac{1}{n^k})-kc} \\\\ & \\sim e^{-kc} \\end{aligned}\\end{equation}$$  <br>\n",
    "Donc  $$\\lim\\limits_{n \\rightarrow +\\infty} \\mathbb{E}(X^{\\underline k}) = e^{-kc}$$ <br>\n",
    "    </blockquote>\n"
   ]
  },
  {
   "cell_type": "markdown",
   "id": "d5b43032",
   "metadata": {},
   "source": [
    "### T2"
   ]
  },
  {
   "cell_type": "markdown",
   "id": "95f63a81",
   "metadata": {},
   "source": [
    "#### Montrons que la probabilité $\\mathbb{P}(X = 0)$ pour que le graphe $G(n,p)$ n'ait aucun sommet isolé vérifie  $\\lim\\limits_{n \\rightarrow +\\infty} \\mathbb{P}(X = 0) = e^{-e^{-c}}$"
   ]
  },
  {
   "cell_type": "markdown",
   "id": "492ea906",
   "metadata": {},
   "source": [
    "<h2 style = \"font-size: 16px;\">Preuve :</h2>\n",
    "<blockquote>\n",
    "\n",
    "On note $\\phi_{X_n}$ la fonction caractéristique de $X$, et $\\phi$ celle d'une variable $Y$ suivant la loi de Poisson de paramètre $e^{-e^{-c}}$  <br>\n",
    "    Comme $X$ converge en loi vers une loi de Poisson de paramètre $e^{-c}$, alors d'après le théorème de Lévy, on a $\\phi_{X_n}$ converge simplement vers $ \\phi $  <br>\n",
    "\n",
    "Or, on a $$ \\mathbb{P}(X = 0) = \\frac{1}{2\\pi}\\int_{0}^{2\\pi} \\phi_{X_n}(t) \\,dt\\ $$  <br>\n",
    "\n",
    "En effet, pour $ t \\in \\mathbb{R}$, on a $ \\phi_{X_n}(t) = \\sum_{k = 0}^{n} e^{ikt}\\mathbb{P}(X=k) $  <br>\n",
    "\n",
    "Alors $$ \\begin{equation}\\begin{aligned} \\frac{1}{2\\pi}\\int_{0}^{2\\pi} \\phi_{X_n}(t) \\,dt\\ & =\\frac{1}{2\\pi} \\int_{0}^{2\\pi} \\phi_{X_n}(t) \\,dt\\ \\\\ & = \\sum_{k=0}^{n}\\frac{1}{2\\pi} \\int_{0}^{2\\pi} e^{ikt} \\,dt\\ \\mathbb{P}(X=k) \\\\ & = \\mathbb{P}(X=0)\\end{aligned}\\end{equation}$$ <br>\n",
    "\n",
    "Comme $ |\\phi_{X_n}| <= 1 $ et la variable déterministe $1$ intégrable sur $[0,2\\pi]$, alors d'après le théorème de la convergence dominée: $$ \\begin{equation}\\begin{aligned} \\lim\\limits_{n \\rightarrow +\\infty} \\mathbb{P}(X = 0) & = \\frac{1}{2\\pi}\\int_{0}^{2\\pi} \\phi(t) \\,dt\\ \\\\ & =  \\mathbb{P}(Y = 0) \\\\ & = e^{-e^{-c}} \\end{aligned} \\end{equation}$$  \n",
    "</blockquote>"
   ]
  },
  {
   "cell_type": "markdown",
   "id": "0a7e0f0b",
   "metadata": {},
   "source": [
    "### T3"
   ]
  },
  {
   "cell_type": "markdown",
   "id": "4707167a",
   "metadata": {},
   "source": [
    "#### Montrons que pour un entier $ k > 1 $, la probabilité que $G(n, p)$ ait une composante connexe de taille $k$ est majorée par :  $$ \\binom{n}{k} \\times \\mathbb{P}(G(k,p) \\textrm{ connecté})(1-p)^{k(n-k)} $$"
   ]
  },
  {
   "cell_type": "markdown",
   "id": "c1e5c33e",
   "metadata": {},
   "source": [
    "<h2 style = \"font-size: 16px;\">Preuve : </h2>\n",
    "<p><strong>Remarque : </strong> L'union ci-dessous porte sur les sous-ensembles de taille $k$ : $u_1,u_2,...,u_k$ de $[n]$</p>\n",
    "<blockquote>    \n",
    "On a $$\\begin{equation}\\begin{aligned} \\mathbb{P}(G(n,p) \\textrm{ admet une composante connexe de taille } k) & = \\mathbb{P}(\\bigcup\\limits_{u_1,u_2,...,u_k} [u_1,u_2,...,u_k] \\textrm{ forment une composante connexe de } G(n,p)) \\\\ & \\leq \\sum_{u_1,...,u_k}\\mathbb{P}([u_1,...,u_k] \\textrm{ forment une composante connexe de }G(n,p)) \\end{aligned}\\end{equation}$$ <br>\n",
    " Comme $u_1,u_2,...,u_k$ sont tous distincts, alors on a <br> <br>$$ \\mathbb{P}([u_1,...,u_k] \\textrm{ forment une composante connexe de }G(n,p)) = \\mathbb{P}([k] \\textrm{ composante connexe de }G(n,p))$$ <br>\n",
    "    D'où $$ \\mathbb{P}(\\bigcup\\limits_{u_1,u_2,...,u_k} [u_1,u_2,...,u_k] \\textrm{ forment une composante connexe de } G(n,p)) \\leq \\mathbb{P}([k] \\textrm{ composante connexe de }G(n,p))\\sum_{u_1,...,u_k} 1 $$ <br>\n",
    "    D'autre part, on a le nombre de sous-ensembles de taille $k$ de $[n]$ est $\\binom{n}{k}$ <br>\n",
    "    Reste à déterminer $\\mathbb{P}([k] \\textrm{ composante connexe de }G(n,p))$ <br>\n",
    "    $[k]$ est une composante connexe du graphe $G(n,p)$ alors $G(k,p)$ est un graphe connecté <strong>(événement A)</strong> et aucun des sommets $u \\in [k]$ n'est connecté à l'un des sommets $\\in {k+1,...,n} \\textrm{ }$ <strong>(événement B)</strong> <br>\n",
    "    Or la probabilité pour qu'un sommet $u$ ne soit connecté à aucun des sommets $k+1,...,n$ est égale à $(1-p)^{n-k}$ <br>\n",
    "    Comme on a $k$ sommets $\\in [k]$, alors la probabilté pour qu'aucun de ces sommets ne soit connecté à un sommet $\\in {k+1,...,n}$ est donnée par $(1-p)^{k(n-k)}$ <br>\n",
    "    Les deux événements A et B sont indépendants, vu que la probabilité pour qu'un sommet soit connecté à un autre est indépendante du fait qu'il soit connecté à d'autres sommets.<br>\n",
    "    On déduit alors que : $$ \\mathbb{P}([k] \\textrm{ composante connexe de }G(n,p)) = \\mathbb{P}(G(k,p) \\textrm{ connecté })(1-p)^{k(n-k)}$$ <br>\n",
    "    Par conséquent, $$ \\mathbb{P}(G(n,p) \\textrm{ admet une composante connexe de taille } k) \\leq \\binom{n}{k} \\times \\mathbb{P}(G(k,p) \\textrm{ connecté })(1-p)^{k(n-k)}$$\n",
    "    </blockquote>\n",
    "\n"
   ]
  },
  {
   "cell_type": "markdown",
   "id": "9868c9b2",
   "metadata": {},
   "source": [
    "### T4"
   ]
  },
  {
   "cell_type": "markdown",
   "id": "151c0435",
   "metadata": {},
   "source": [
    "<h2 style = \"font-size: 16px;\">Théorème d'Erdos Rényi : </h2>\n",
    "<blockquote>\n",
    "$ \\forall c \\in \\mathbb{R}$, on a : $$\\lim\\limits_{n \\rightarrow +\\infty} \\mathbb{P}(G(n,\\frac{\\ln(n)+c}{n}) \\textrm{ connecté}) = e^{-e^{-c}}$$\n",
    "</blockquote>"
   ]
  },
  {
   "cell_type": "markdown",
   "id": "e43bf2f5",
   "metadata": {},
   "source": [
    "<h2 style = \"font-size : 16px;\">Notation :</h2>\n",
    "<ul>\n",
    "    <li>On note $C_k$ : le graphe $G(n,p)$ admet une composante connexe de taille $k$, pour $k \\in [n]$</li>\n",
    "</ul>\n",
    "<h2 style = \"font-size : 16px;\">Preuve :</h2>\n",
    "<blockquote>\n",
    "    Notons tout d'abord que $ C_{n-1} \\subset C_1 $ <br>\n",
    "    On a $$ \\begin{equation}\\begin{aligned}\\mathbb{P}(G(n,p) \\textrm{ connecté}) &= 1-\\mathbb{P}(G(n,p) \\textrm{ non connecté}) \\\\ & = 1-\\mathbb{P}(G(n,p) \\textrm{ admet une composante connexe de taille } < n) \\\\ & = 1-\\mathbb{P}(C_1\\bigcup\\bigcup\\limits_{k=2}^{n-2} C_k) \\\\ & = 1-\\mathbb{P}(C_1) -\\mathbb{P}(\\bigcup\\limits_{k=2}^{n-2} C_k) +\\mathbb{P}(\\bigcup\\limits_{k=2}^{n-2} C_k \\cap C_1)\\end{aligned}\\end{equation}$$ <br>\n",
    "    Or d'après la question précédente, on a $\\lim\\limits_{n \\rightarrow +\\infty} \\mathbb{P}(\\bigcup\\limits_{k=2}^{n-2} C_k) = 0$                                                 $\\hspace{2cm}(1)$  <br>\n",
    "    Or $ (\\bigcup\\limits_{k=2}^{n-2} C_k)\\cap C_1 \\subset \\bigcup\\limits_{k=2}^{n-2} C_k $ <br>\n",
    "    Donc $\\mathbb{P}(\\bigcup\\limits_{k=2}^{n-2} C_k \\cap C_1) \\leq \\mathbb{P}(\\bigcup\\limits_{k=2}^{n-2} C_k) $ <br>\n",
    "    Or d'après $(1)$, on déduit que $\\lim\\limits_{n \\rightarrow +\\infty} \\mathbb{P}(\\bigcup\\limits_{k=2}^{n-2} C_k \\cap C_1) = 0$                                                 $\\hspace{2cm}(2)$<br>\n",
    "    De $(1)$ et $(2)$, on a $$\\lim\\limits_{n \\rightarrow +\\infty} \\mathbb{P}(G(n,p) \\textrm{ connecté}) = 1 - \\lim\\limits_{n \\rightarrow +\\infty} \\mathbb{P}(C_1)$$ <br>\n",
    "    On a $$\\mathbb{P}(C_1)  = \\mathbb{P}(X\\neq 0)$$\n",
    "    Donc d'après la question T2 $$ \\begin{equation}\\begin{aligned} \\lim\\limits_{n \\rightarrow +\\infty} \\mathbb{P}(C_1) & = \\lim\\limits_{n \\rightarrow +\\infty}  \\mathbb{P}(X\\neq 0) \\\\ &= 1 - e^{-e^{-c}} \\end{aligned}\\end{equation}  $$ <br>\n",
    "    Ainsi  $$\\lim\\limits_{n \\rightarrow +\\infty} \\mathbb{P}(G(n,p) \\textrm{ connecté}) = e^{-e^{-c}}$$\n",
    "</blockquote>"
   ]
  },
  {
   "cell_type": "markdown",
   "id": "8581dd29",
   "metadata": {},
   "source": [
    "## Simulation : Implémentation d'un graphe"
   ]
  },
  {
   "cell_type": "code",
   "execution_count": 1,
   "id": "5b163fec",
   "metadata": {},
   "outputs": [],
   "source": [
    "import numpy as np\n",
    "import matplotlib.pyplot as plt\n",
    "import sys\n",
    "\n",
    "#increase recursion limit\n",
    "sys.setrecursionlimit(10**4)\n",
    "\n",
    "\n",
    "class noeud:\n",
    "    \"\"\"\n",
    "    Représente un noeud du graphe et lui associe l'ensemble des noeuds vers lesquels il pointe.\n",
    "    \"\"\"\n",
    "\n",
    "    def __init__(self, value):\n",
    "        self.value = value\n",
    "        self.reach = {value} #contient les indices des noeuds vers lesquels pointe le noeud\n",
    "        \n",
    "    def initialize(self, liste):\n",
    "        \"\"\" \n",
    "        Ensemble des noeuds vers lesquels pointe le noeud. \n",
    "        \"\"\"\n",
    "        self.reach = set(liste)\n",
    "\n",
    "class Graphe:\n",
    "    \"\"\"\n",
    "    Le graphe est représenté par une matrice de booléens n x n où (i,j) == True si et seulement si i pointe vers j.\n",
    "    \"\"\"\n",
    "    def __init__(self, n, p, oriente = False):\n",
    "        self.n = n\n",
    "        self.p = p\n",
    "        self.oriente = oriente #graphe orienté ou non \n",
    "        self.noeuds = np.array([noeud(i) for i in range(n)]) \n",
    "        self.graphe = []\n",
    "        self.ints = np.array([i for i in range(self.n)]) \n",
    "\n",
    "\n",
    "    def simulate(self):\n",
    "        \"\"\"\n",
    "        Simulation du graphe aléatoire et initialisation des noeuds ie. on initialise les arêtes orientées\n",
    "        Remarque : pour les éléments de la diagonale, le nombre engendré ne sert à rien et avoir True ou False dans\n",
    "        self.graphe[i][i] importe peu car le noeud i pointe deja vers lui même : i in noeuds[i].reach est toujours vraie\n",
    "        \"\"\"\n",
    "        tmp = np.random.random_sample((self.n,self.n))\n",
    "        if (not self.oriente):\n",
    "            for i in range(self.n):\n",
    "                tmp[i,:i] = tmp[:i,i]\n",
    "        self.graphe = tmp <= self.p\n",
    "        for i in range(self.n):\n",
    "            self.noeuds[i].initialize(self.ints[self.graphe[i]])\n",
    "\n",
    "\n",
    "    def isConnected(self): \n",
    "        \"\"\"\n",
    "        Cas 1 : Si le graphe est orienté, on vérifie s'il est fortement connexe\n",
    "        Cas 2 : Si le graphe est non orienté, on vérifie s'il est connexe\n",
    "        \"\"\"\n",
    "        visited = set()\n",
    "        self.isConnected_Rec(0, visited)\n",
    "        if (len(visited) < self.n):\n",
    "            return False\n",
    "        if (self.oriente) :\n",
    "            visited = set()\n",
    "            for i in range(self.n):\n",
    "                #on inverse le graphe (ie. on transpose la matrice) pour chercher les noeuds qui peuvent arriver au noeud 0\n",
    "                self.noeuds[i].initialize(self.ints[self.graphe[:,i]])\n",
    "            self.isConnected_Rec(0, visited)\n",
    "            if (len(visited) < self.n):\n",
    "                return False\n",
    "        return True\n",
    "\n",
    "\n",
    "    def isConnected_Rec(self, i, visited):\n",
    "        \"\"\"\n",
    "        (Depth search) On continue la recherche de profondeur à partir du noeud i en explorant les noeuds vers lesquels il\n",
    "        pointe et qui n'ont pas été déja visité\n",
    "        \"\"\"\n",
    "        if (i in visited) : return\n",
    "        visited.add(i)\n",
    "        for node in self.noeuds[i].reach:\n",
    "            self.isConnected_Rec(node, visited)\n",
    "\n",
    "    def __repr__(self):\n",
    "        return self.graphe.__repr__()"
   ]
  },
  {
   "cell_type": "markdown",
   "id": "eba528bd",
   "metadata": {},
   "source": [
    "## Graphe non orienté : Simulation"
   ]
  },
  {
   "cell_type": "markdown",
   "id": "e54e5e8c",
   "metadata": {},
   "source": [
    "### S1"
   ]
  },
  {
   "cell_type": "markdown",
   "id": "5708a092",
   "metadata": {},
   "source": [
    "On réalise une vingtaine de simulations d'un graphe $G(n,p)$ pour $n = 1000$ et pour chaque valeur de $p = \\frac{k}{n}$"
   ]
  },
  {
   "cell_type": "code",
   "execution_count": 2,
   "id": "69352f5f",
   "metadata": {},
   "outputs": [
    {
     "name": "stdout",
     "output_type": "stream",
     "text": [
      "[7, 12, 14, 14, 23, 21]\n"
     ]
    }
   ],
   "source": [
    "Nsim = 25 #Nombre de simulations\n",
    "n = 1000 #Taille du graphe\n",
    "kValues = [6.5, 7.0, 7.5, 8.0, 8.5, 9.0] #probabilité p = k/n\n",
    "result = []\n",
    "for k in kValues:\n",
    "    tmpResult = 0\n",
    "    for _ in range(Nsim):\n",
    "        g = Graphe(n, k/n) # on peut juste resimuler au lieu de créer un nouveau graphe\n",
    "        g.simulate()\n",
    "        tmpResult += g.isConnected()\n",
    "    result.append(tmpResult)\n",
    "\n",
    "print(result)"
   ]
  },
  {
   "cell_type": "code",
   "execution_count": 3,
   "id": "526b5f7e",
   "metadata": {},
   "outputs": [
    {
     "data": {
      "image/png": "[encoded data removed]",
      "text/plain": [
       "<Figure size 720x504 with 1 Axes>"
      ]
     },
     "metadata": {
      "needs_background": "light"
     },
     "output_type": "display_data"
    }
   ],
   "source": [
    "plt.figure(figsize = (10,7))\n",
    "plt.bar(kValues, np.array(result)/Nsim, width=0.3, label = \"Valeurs expérimentales\")\n",
    "plt.title(f\"Vingtaine de simulations avec k dans {set(kValues)} \\n et n={n} pour savoir si G(n,k/n) est connexe\")\n",
    "plt.xlabel(\"Valeurs de k\")\n",
    "plt.ylabel(\"Fraction des graphes connexes\")\n",
    "plt.grid(axis = 'y')\n",
    "plt.show()"
   ]
  },
  {
   "cell_type": "markdown",
   "id": "fc5e1790",
   "metadata": {},
   "source": [
    "### S2"
   ]
  },
  {
   "cell_type": "code",
   "execution_count": 4,
   "id": "4db919e5",
   "metadata": {},
   "outputs": [
    {
     "data": {
      "image/png": "[encoded data removed]",
      "text/plain": [
       "<Figure size 720x504 with 1 Axes>"
      ]
     },
     "metadata": {
      "needs_background": "light"
     },
     "output_type": "display_data"
    }
   ],
   "source": [
    "plt.figure(figsize = (10,7))\n",
    "plt.bar(kValues, np.array(result)/Nsim, width=0.3, label = \"Valeurs expérimentales\")\n",
    "plt.title(f\"Vingtaine de simulations avec k dans {set(kValues)} \\n et n={n} pour savoir si G(n,k/n) est connexe\")\n",
    "plt.xlabel(\"Valeurs de k\")\n",
    "plt.ylabel(\"Fraction des graphes connexes\")\n",
    "plt.grid(axis = 'y')\n",
    "exp_c = np.exp(-np.exp(-(np.array(kValues)-np.log(n))))\n",
    "plt.stem(kValues, exp_c, linefmt=\"r\", markerfmt=\"ro\", basefmt=\"None\",label = \"Valeurs théoriques\")\n",
    "plt.legend(loc = \"best\")\n",
    "plt.show()"
   ]
  },
  {
   "cell_type": "markdown",
   "id": "1217a3e9",
   "metadata": {},
   "source": [
    "> À partir de l'histogramme ci-dessus, on remarque que les valeurs expérimentales collent bien avec les valeurs théoriques et donc le résultat asymptotique d'Erdos-Rényi fournit une bonne approximation de $$ \\mathbb{P}(G(n,p) \\textrm{ connecté})$$"
   ]
  },
  {
   "cell_type": "markdown",
   "id": "f4086280",
   "metadata": {},
   "source": [
    "> Déterminons l'erreur quadratique qui résulte de cette approximation :"
   ]
  },
  {
   "cell_type": "code",
   "execution_count": 5,
   "id": "42173a30",
   "metadata": {},
   "outputs": [
    {
     "name": "stdout",
     "output_type": "stream",
     "text": [
      "0.21555664936912147\n"
     ]
    }
   ],
   "source": [
    "err_quadratique = np.sum((np.array(result)/Nsim - exp_c)**2)**0.5\n",
    "print(err_quadratique)"
   ]
  },
  {
   "cell_type": "markdown",
   "id": "bb98d1c3",
   "metadata": {},
   "source": [
    "## Graphe orienté : Théorie"
   ]
  },
  {
   "cell_type": "markdown",
   "id": "8a11c44e",
   "metadata": {},
   "source": [
    "### T5"
   ]
  },
  {
   "cell_type": "markdown",
   "id": "ec5e6146",
   "metadata": {},
   "source": [
    "#### Montrons que $X_{in}$ et $X_{out} $ ont une loi binomiale de paramètres $(n,(1-p)^{n-1})$"
   ]
  },
  {
   "cell_type": "markdown",
   "id": "0e7ea487",
   "metadata": {},
   "source": [
    "<h2 style = \"font-size : 16px\"> Preuve : </h2>\n",
    "<blockquote>\n",
    "On a $X_{in}$ et $X_{out}$ sont à valeurs dans ${0,1,...,n}$ <br>\n",
    "Soit $k \\in {0,1,...,n}$, on a $(X_{in} = k)  \\Leftrightarrow \\sum_{u}1_{d_u^{in} = 0} = k$, donc  $X_{in}$ de même loi que $\\sum_{u}1_{d_u^{in} = 0}$<br>\n",
    "Or la variable aléatoire $1_{d_u^{in} = 0}$ est de Bernouilli de paramètre $p = \\mathbb{P}(d_u^{in} = 0) = (1-p)^{n-1}$, car $d_u^{in} = 0$ si et seulement si aucun sommet $v\\neq u$ ne pointe vers $u$ <br>\n",
    "De plus, on a les variables aléatoires $1_{d_u^{in} = 0}$, $u \\in {0,1,...,n}$ sont indépendantes <br> \n",
    "Alors $\\sum_{u}1_{d_u^{in}} = 0$ suit une loi binomiale de paramètres $(n,(1-p)^{n-1})$, et donc $X_{in}$ suit une loi binomiale de paramètres $(n,(1-p)^{n-1})$ <br>\n",
    " On montre de la même façon que $X_{out}$ suit une loi de Bernouilli de paramètres $(n,(1-p)^{n-1})$ <br>\n",
    "</blockquote>"
   ]
  },
  {
   "cell_type": "markdown",
   "id": "02423ed4",
   "metadata": {},
   "source": [
    "#### Montrons maintenant qu'une variable aléatoire $Y_n \\sim B(n,(1-p)^{n-1})$ converge en loi vers une loi de Poisson de paramètre $e^{-c}$"
   ]
  },
  {
   "cell_type": "markdown",
   "id": "f40a5e47",
   "metadata": {},
   "source": [
    "<h2 style = \"font-size : 16px\"> Preuve : </h2>\n",
    "<blockquote>\n",
    "Soit $ k \\in \\mathbb{N} $, on a $\\mathbb{P}(Y_n=k) = \\binom{n}{k} \\times (1-p)^{(n-1)k}\\times(1-(1-p)^{n-1})^{n-k}$ <br>\n",
    "On a $$ \\binom{n}{k} \\sim \\frac{n^k}{k!} $$ <br>\n",
    "Et comme on l'a vu à la question T2, $$ (1-p)^{(n-1)k} \\sim e^{nk\\ln(1-\\frac{\\ln(n)+c}{n})} \\sim e^{-k(\\ln(n)+c)} = \\frac{1}{n^k}e^{-kc}$$ <br>\n",
    "D'autre part, on a $$ \\begin{equation}\\begin{aligned} (1 - \\frac{\\ln(n)+c}{n})^{n-1} & = e^{(n-1)\\ln(1 - \\frac{\\ln(n)+c}{n})} \\\\ & = e^{(n-1) \\times (-\\frac{\\ln(n)+c}{n} - \\frac{1}{2}(\\frac{\\ln(n)+c}{n})^2 + o(\\frac{\\ln(n)^2}{n^2})} \\\\ & = e^{-\\ln(n)-c-\\frac{1}{2}\\frac{\\ln(n)^2+c^2}{n} + o(\\frac{\\ln(n)^2}{n})} \\\\ & = \\frac{1}{n}e^{-c-\\frac{1}{2}\\frac{\\ln(n)^2+c^2}{n}+ o(\\frac{\\ln(n)^2}{n})}\\end{aligned}\\end{equation}$$ <br>\n",
    "Donc comme le terme précédent tend vers $0$ quand $n \\rightarrow + \\infty$ <br>\n",
    "Alors $$ (1 - (1-p)^{n-1})^{n-k} = e^{(n-k)ln(1-(1-p)^{n-1})} = e^{-(n-k)\\times (\\frac{1}{n}e^{-c-\\frac{1}{2}\\frac{\\ln(n)^2+c^2}{n}+ o(\\frac{\\ln(n)^2}{n})}) }$$ <br>\n",
    "    Donc $$ (1 - (1-p)^{n-1})^{n-k} \\sim e^{-e^{-c}} $$\n",
    " On conclut donc que $$ \\mathbb{P}(Y_n = k) \\sim e^{-e^{-c}} \\times \\frac{n^k}{k!} \\times \\frac{e^{-kc}}{n^k} = e^{-e^{-c}} \\times \\frac{(e^{-c})^k}{k!}  $$\n",
    "    D'où $$ \\lim\\limits_{n \\rightarrow +\\infty} \\mathbb{P}(Y_n = k)  = \\mathbb{P}(Z = k) $$ \n",
    "    Où $Z$ suit une loi de Poisson de paramètre $e^{-c}$<br>\n",
    "    Alors $Y_n$ converge en loi vers $Z$ <br>\n",
    "    On conclut donc que $X_{n}$ et $X_{out}$ converge en loi vers une loi de Poisson de paramètre $e^{-c}$\n",
    "</blockquote>"
   ]
  },
  {
   "cell_type": "markdown",
   "id": "9909a8af",
   "metadata": {},
   "source": [
    "## Graphe orienté : Simulation"
   ]
  },
  {
   "cell_type": "markdown",
   "id": "7cb318cb",
   "metadata": {},
   "source": [
    "### S3"
   ]
  },
  {
   "cell_type": "code",
   "execution_count": 6,
   "id": "630ca4ab",
   "metadata": {},
   "outputs": [
    {
     "name": "stdout",
     "output_type": "stream",
     "text": [
      "[1, 7, 12, 14, 16]\n"
     ]
    },
    {
     "data": {
      "image/png": "[encoded data removed]",
      "text/plain": [
       "<Figure size 720x504 with 1 Axes>"
      ]
     },
     "metadata": {
      "needs_background": "light"
     },
     "output_type": "display_data"
    }
   ],
   "source": [
    "Nsim = 25 #Nombre de simulations\n",
    "n = 1000 #Taille du graphe\n",
    "kValues = [6.5, 7.0, 7.5, 8.0, 8.5] #probabilité p = k/n\n",
    "result = []\n",
    "for k in kValues:\n",
    "    tmpResult = 0\n",
    "    for _ in range(Nsim):\n",
    "        g = Graphe(n, k/n, True) #on peut juste resimuler le graphe au lieu de créer un nouveau à chaque foi\n",
    "        g.simulate()\n",
    "        tmpResult += g.isConnected()\n",
    "    result.append(tmpResult)\n",
    "\n",
    "print(result)\n",
    "plt.figure(figsize = (10,7))\n",
    "plt.bar(kValues, np.array(result)/Nsim, width=0.3, label = \"Valeurs expérimentales\")\n",
    "plt.title(f\"Vingtaine de simulations avec k dans {set(kValues)} \\n et n={n} pour savoir si G(n,k/n) est fortement connexe\")\n",
    "plt.xlabel(\"Valeurs de k\")\n",
    "plt.ylabel(\"Fraction des graphes fortement connexes\")\n",
    "plt.grid(axis = 'y')\n",
    "exp_c = np.exp(-2*np.exp(-(np.array(kValues)-np.log(n))))\n",
    "plt.stem(kValues, exp_c, linefmt=\"r\", markerfmt=\"ro\", basefmt=\"None\",label = \"Valeurs théoriques\")\n",
    "plt.legend(loc = \"best\")\n",
    "plt.show()\n"
   ]
  },
  {
   "cell_type": "markdown",
   "id": "3aeb1aaa",
   "metadata": {},
   "source": [
    "> Déterminons l'erreur quadratique qui résulte de cette approximation :"
   ]
  },
  {
   "cell_type": "code",
   "execution_count": 7,
   "id": "2a79c1eb",
   "metadata": {},
   "outputs": [
    {
     "name": "stdout",
     "output_type": "stream",
     "text": [
      "0.19860109627771458\n"
     ]
    }
   ],
   "source": [
    "err_quadratique = np.sum((np.array(result)/Nsim - exp_c)**2)**0.5\n",
    "print(err_quadratique)"
   ]
  },
  {
   "cell_type": "markdown",
   "id": "1cf0a6a7",
   "metadata": {},
   "source": [
    "> Les résultats expérimentaux collent bien avec le résultat théorique trouvé."
   ]
  },
  {
   "cell_type": "markdown",
   "id": "3071afce",
   "metadata": {},
   "source": [
    "## Bonus"
   ]
  },
  {
   "cell_type": "markdown",
   "id": "019a5e81",
   "metadata": {},
   "source": [
    "### Simulation pour $n$ et $Nsim$ très grand"
   ]
  },
  {
   "cell_type": "markdown",
   "id": "460149e2",
   "metadata": {},
   "source": [
    "> <strong>Remarque : </strong> Ces bouts de code prennent du temps pour s'exécuter (environ 5 min)"
   ]
  },
  {
   "cell_type": "markdown",
   "id": "ea70a6ed",
   "metadata": {},
   "source": [
    "#### Cas $1$ : Graphe non orienté"
   ]
  },
  {
   "cell_type": "markdown",
   "id": "810aa333",
   "metadata": {},
   "source": [
    "```\n",
    "Nsim = 800 #Nombre de simulations\n",
    "n = 3500 #Taille du graphe\n",
    "kValues = [6.5, 7.0, 7.5, 8.0, 8.5, 9.0] #probabilité p = k/n\n",
    "result = []\n",
    "for k in kValues:\n",
    "    tmpResult = 0\n",
    "    for _ in range(Nsim):\n",
    "        g = Graphe(n, k/n) # on peut juste resimuler au lieu de créer un nouveau graphe\n",
    "        g.simulate()\n",
    "        tmpResult += g.isConnected()\n",
    "    result.append(tmpResult)\n",
    "plt.figure(figsize = (10,7))\n",
    "plt.bar(kValues, np.array(result)/Nsim, width=0.3, label = \"Valeurs expérimentales\")\n",
    "plt.title(f\"Vingtaine de simulations avec k dans {set(kValues)} \\n et n={n} pour savoir si G(n,k/n) est connexe\")\n",
    "plt.xlabel(\"Valeurs de k\")\n",
    "plt.ylabel(\"Fraction des graphes connexes\")\n",
    "plt.grid(axis = 'y')\n",
    "exp_c = np.exp(-np.exp(-(np.array(kValues)-np.log(n))))\n",
    "plt.stem(kValues, exp_c, linefmt=\"r\", markerfmt=\"ro\", basefmt=\"None\",label = \"Valeurs théoriques\")\n",
    "plt.legend(loc = \"best\")\n",
    "plt.show()\n",
    "```"
   ]
  },
  {
   "attachments": {
    "non%20orient%C3%A9.png": {
     "image/png": "[encoded data removed]"
    }
   },
   "cell_type": "markdown",
   "id": "88c7cbcc",
   "metadata": {},
   "source": [
    "![non%20orient%C3%A9.png](attachment:non%20orient%C3%A9.png)"
   ]
  },
  {
   "cell_type": "markdown",
   "id": "30fb698f",
   "metadata": {},
   "source": [
    "> Erreur quadratique = 0.0447822226945967  \n",
    "> L'approximation est bonne!"
   ]
  },
  {
   "cell_type": "markdown",
   "id": "f4551a4a",
   "metadata": {},
   "source": [
    "#### Cas $ 2$ : Graphe  orienté"
   ]
  },
  {
   "cell_type": "markdown",
   "id": "f2d243a5",
   "metadata": {},
   "source": [
    "```\n",
    "Nsim = 800 #Nombre de simulations\n",
    "n = 3500 #Taille du graphe\n",
    "kValues = [6.5, 7.0, 7.5, 8.0, 8.5] #probabilité p = k/n\n",
    "result = []\n",
    "for k in kValues:\n",
    "    tmpResult = 0\n",
    "    g = Graphe(n, k/n, True)\n",
    "    for _ in range(Nsim): # on peut juste resimuler au lieu de créer un nouveau graphe\n",
    "        g.simulate()\n",
    "        tmpResult += g.isConnected()\n",
    "    result.append(tmpResult)\n",
    "plt.figure(figsize = (10,7))\n",
    "plt.bar(kValues, np.array(result)/Nsim, width=0.3, label = \"Valeurs expérimentales\")\n",
    "plt.title(f\"Vingtaine de simulations avec k dans {set(kValues)} \\n et n={n} pour savoir si G(n,k/n) est fortement connexe\")\n",
    "plt.xlabel(\"Valeurs de k\")\n",
    "plt.ylabel(\"Fraction des graphes fortement connexes\")\n",
    "plt.grid(axis = 'y')\n",
    "exp_c = np.exp(-2*np.exp(-(np.array(kValues)-np.log(n))))\n",
    "plt.stem(kValues, exp_c, linefmt=\"r\", markerfmt=\"ro\", basefmt=\"None\",label = \"Valeurs théoriques\")\n",
    "plt.legend(loc = \"best\")\n",
    "plt.show()\n",
    "```"
   ]
  },
  {
   "attachments": {
    "oriente.png": {
     "image/png": "[encoded data removed]"
    }
   },
   "cell_type": "markdown",
   "id": "4cf1629e",
   "metadata": {},
   "source": [
    "![oriente.png](attachment:oriente.png)"
   ]
  },
  {
   "cell_type": "markdown",
   "id": "cad483da",
   "metadata": {},
   "source": [
    ">Erreur quadratique = 0.018107894900775707  \n",
    ">L'approximation est bonne!"
   ]
  },
  {
   "cell_type": "markdown",
   "id": "a1398c39",
   "metadata": {},
   "source": [
    "### Point théorique"
   ]
  },
  {
   "cell_type": "markdown",
   "id": "3db77e29",
   "metadata": {},
   "source": [
    "#### Montrons que $$\\lim\\limits_{n \\rightarrow +\\infty} \\mathbb{P}(G(n,p) \\textrm{ a une composante connexe de taille k} \\in {2,...,n-2}) = 0$$"
   ]
  },
  {
   "cell_type": "markdown",
   "id": "1a9cd554",
   "metadata": {},
   "source": [
    "> Nous sommes parvenus à démontrer cela pour une taille $ k \\leq \\frac{n}{2} $, mais nous avons pas pu le démontrer pour des tailles supérieures. Est-ce que c'est possible de nous éclaircir ce point, ou nous donner une idée de démonstration ?"
   ]
  },
  {
   "cell_type": "markdown",
   "id": "904373bf",
   "metadata": {},
   "source": [
    "<h2 style = \"font-size : 16px\">Preuve : </h2>\n",
    "<blockquote>\n",
    "    On a $$ \\mathbb{P}(G(n,p) \\textrm{ a une composante connexe de taille k} \\in {2,...,n-2}) \\leq \\sum_{k=2}^{n-2}\\binom{n}{k}k^{k-2}p^{k-1}(1-p)^{k(n-k)}$$<br>\n",
    "    Il suffit alors de montrer que le terme à droite tend vers $0$ <br>\n",
    "    On peut dans un premier temps, scinder cette somme en deux en utilisant le fait que $\\binom{n}{k} = \\binom{n}{n-k}$ <br>\n",
    "    On a $$ \\sum_{k=2}^{n-2}\\binom{n}{k}k^{k-2}p^{k-1}(1-p)^{k(n-k)} = \\sum_{k=2}^{\\lfloor{\\frac{n}{2}}\\rfloor}\\binom{n}{k}k^{k-2}p^{k-1}(1-p)^{k(n-k)} + \\sum_{k=2}^{n - \\lfloor{\\frac{n}{2}}\\rfloor -1}\\binom{n}{k}(n-k)^{n-k-2}p^{n-k-1}(1-p)^{k(n-k)} $$ <br>\n",
    "    Commençant par la première somme, <br>\n",
    "    On a d'après la formule de Stirling $n! \\sim \\sqrt(2n\\pi)\\times(\\frac{n}{e})^n$ avec $\\binom{n}{k} = \\frac{n!}{k!(n-k)!}$ <br>\n",
    "    Du coup, en majorant chacun des termes factorielles, on déduit qu'il existe $M > 0$ pour lequel on a $$\\binom{n}{k} \\leq M\\sqrt{\\frac{n}{k(n-k)}}(\\frac{n}{k})^k(\\frac{n}{n-k})^{n-k}$$<br>\n",
    "    En effet $\\frac{\\sqrt(2k\\pi)\\times(\\frac{k}{e})^k}{k!}$ tend vers $1$ donc cette suite est bornée, de même pour le terme en $(n-k)!$, et comme $\\frac{n!}{\\sqrt(2n\\pi)\\times(\\frac{n}{e})^n}$ tend vers $1$ alors elle aussi est bornée.<br>\n",
    "    D'autre part, il existe $C > 0$ pour lequel $(\\frac{n}{n-k})^{n-k} \\leq Ce^k$ et on a $\\sqrt{\\frac{n}{k(n-k)}} \\leq \\sqrt{\\frac{1}{k}}$<br>\n",
    "    Donc on a $$\\binom{n}{k}k^{k-2} \\leq MC\\frac{(ne)^k}{k^{\\frac{5}{2}}}$$<br>\n",
    "    Pour $ k \\leq \\frac{n}{2} $, alors $ \\frac{n}{2} \\leq n-k$ et comme $ (1-p) \\leq 1 $, on a $ (1-p)^{k(n-k)} \\leq (1-p)^{\\frac{nk}{2}}$ <br>\n",
    "    Comme $ 1 - p \\leq e^{-p}$, on a $ (1-p)^{k(n-k)} \\leq e^{\\frac{-pnk}{2}}$ <br>\n",
    "    Ainsi, $$\\binom{n}{k}k^{k-2}p^{k-1}(1-p)^{k(n-k)} \\leq MC\\frac{(enpe^{-np/2})^k}{pk^{2.5}} \\leq MC\\frac{(enpe^{-np/2})^k}{p}$$\n",
    "    Comme $np$  tend vers $+\\infty$ \\alors le terme à droite tend vers $0$ lorsque $n \\rightarrow +\\infty$ <br>\n",
    "    Donc $$\\sum_{k=3}^{\\lfloor{\\frac{n}{2}}\\rfloor}\\binom{n}{k}k^{k-2}p^{k-1}(1-p)^{k(n-k)} \\leq MC \\times \\frac{\\frac{(enpe^{-np/2})^3}{p}}{1-\\frac{(enpe^{-np/2})}{p}}$$<br>\n",
    "    Le terme à droite tend vers $0$ <br>\n",
    "    Et pour  $k = 2$, on a $\\binom{n}{2}p(1-p)^{n-2} \\leq n^2pe^{-p(n-2)}$ <br>\n",
    "    Le terme à droite tend vers $0$ <br>\n",
    "    Donc $ \\sum_{k=2}^{\\lfloor{\\frac{n}{2}}\\rfloor}\\binom{n}{k}k^{k-2}p^{k-1}(1-p)^{k(n-k)} $ tend vers $0$ lorsque $n\\rightarrow +\\infty$<br>\n",
    "    \n",
    "   "
   ]
  }
 ],
 "metadata": {
  "kernelspec": {
   "display_name": "Python 3",
   "language": "python",
   "name": "python3"
  },
  "language_info": {
   "codemirror_mode": {
    "name": "ipython",
    "version": 3
   },
   "file_extension": ".py",
   "mimetype": "text/x-python",
   "name": "python",
   "nbconvert_exporter": "python",
   "pygments_lexer": "ipython3",
   "version": "3.8.8"
  }
 },
 "nbformat": 4,
 "nbformat_minor": 5
}
